{
 "cells": [
  {
   "cell_type": "code",
   "execution_count": 1,
   "metadata": {},
   "outputs": [],
   "source": [
    "import speech_recognition as sr # recognise speech\n",
    "import playsound # to play an audio file\n",
    "from gtts import gTTS # google text to speech\n",
    "import random\n",
    "from time import ctime # get time details\n",
    "import webbrowser # open browser\n",
    "import yfinance as yf # to fetch financial data\n",
    "import ssl\n",
    "import certifi\n",
    "import time\n",
    "import os # to remove created audio files\n"
   ]
  },
  {
   "cell_type": "code",
   "execution_count": null,
   "metadata": {},
   "outputs": [],
   "source": []
  }
 ],
 "metadata": {
  "kernelspec": {
   "display_name": "Python 3",
   "language": "python",
   "name": "python3"
  },
  "language_info": {
   "codemirror_mode": {
    "name": "ipython",
    "version": 3
   },
   "file_extension": ".py",
   "mimetype": "text/x-python",
   "name": "python",
   "nbconvert_exporter": "python",
   "pygments_lexer": "ipython3",
   "version": "3.7.4"
  }
 },
 "nbformat": 4,
 "nbformat_minor": 2
}

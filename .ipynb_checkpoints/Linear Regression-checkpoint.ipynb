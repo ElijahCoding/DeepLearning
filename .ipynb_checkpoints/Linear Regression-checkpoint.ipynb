{
 "cells": [
  {
   "cell_type": "code",
   "execution_count": 1,
   "metadata": {},
   "outputs": [],
   "source": [
    "import pandas as pd\n",
    "import numpy as np\n",
    "import matplotlib.pyplot as plt"
   ]
  },
  {
   "cell_type": "code",
   "execution_count": 2,
   "metadata": {},
   "outputs": [
    {
     "data": {
      "text/plain": [
       "array([[       1971,        2300],\n",
       "       [       1972,        3500],\n",
       "       [       1973,        2500],\n",
       "       [       1973,        2500],\n",
       "       [       1974,        4100],\n",
       "       [       1974,        4500],\n",
       "       [       1974,        8000],\n",
       "       [       1975,        3510],\n",
       "       [       1976,        5000],\n",
       "       [       1976,        8500],\n",
       "       [       1976,        6500],\n",
       "       [       1978,        9000],\n",
       "       [       1978,       29000],\n",
       "       [       1979,       17500],\n",
       "       [       1979,       29000],\n",
       "       [       1979,       68000],\n",
       "       [       1981,       11500],\n",
       "       [       1982,       55000],\n",
       "       [       1982,      134000],\n",
       "       [       1983,       22000],\n",
       "       [       1984,       63000],\n",
       "       [       1984,      190000],\n",
       "       [       1985,      275000],\n",
       "       [       1985,       25000],\n",
       "       [       1985,       16000],\n",
       "       [       1986,      110000],\n",
       "       [       1986,      375000],\n",
       "       [       1986,       30000],\n",
       "       [       1987,      385000],\n",
       "       [       1987,      730000],\n",
       "       [       1987,      273000],\n",
       "       [       1987,      553000],\n",
       "       [       1988,      180000],\n",
       "       [       1988,      250000],\n",
       "       [       1989,      600000],\n",
       "       [       1989,     1000000],\n",
       "       [       1989,     1180235],\n",
       "       [       1989,      310000],\n",
       "       [       1990,     1200000],\n",
       "       [       1991,     1350000],\n",
       "       [       1991,       35000],\n",
       "       [       1992,      600000],\n",
       "       [       1992,      900000],\n",
       "       [       1993,     2800000],\n",
       "       [       1993,     3100000],\n",
       "       [       1994,      578977],\n",
       "       [       1994,     2500000],\n",
       "       [       1995,     2500000],\n",
       "       [       1999,      111000],\n",
       "       [       1995,     5500000],\n",
       "       [       1996,     4300000],\n",
       "       [       1997,    10000000],\n",
       "       [       1997,     7500000],\n",
       "       [       1997,     8800000],\n",
       "       [       1998,     7500000],\n",
       "       [       1999,     9500000],\n",
       "       [       1999,    13500000],\n",
       "       [       2000,    21000000],\n",
       "       [       2000,    21000000],\n",
       "       [       1999,    27400000],\n",
       "       [       1999,    21300000],\n",
       "       [       1999,    22000000],\n",
       "       [       2000,    42000000],\n",
       "       [       2001,   191000000],\n",
       "       [       2001,    45000000],\n",
       "       [       2002,    55000000],\n",
       "       [       2004,   112000000],\n",
       "       [       2004,   400000000],\n",
       "       [       2005,   169000000],\n",
       "       [       2006,   184000000],\n",
       "       [       2005,   228000000],\n",
       "       [       2006,   362000000],\n",
       "       [       2007,   540000000],\n",
       "       [       2008,    47000000],\n",
       "       [       2003,    54300000],\n",
       "       [       2003,   105900000],\n",
       "       [       2002,   220000000],\n",
       "       [       2005,   165000000],\n",
       "       [       2005,   250000000],\n",
       "       [       2006,   291000000],\n",
       "       [       2007,   169000000],\n",
       "       [       2003,   410000000],\n",
       "       [       2008,   600000000],\n",
       "       [       2009,   760000000],\n",
       "       [       2011,  1870000000],\n",
       "       [       2012,   432000000],\n",
       "       [       2007,   463000000],\n",
       "       [       2007,    26000000],\n",
       "       [       2008,   230000000],\n",
       "       [       2004,   592000000],\n",
       "       [       2007,   411000000],\n",
       "       [       2008,   731000000],\n",
       "       [       2008,   758000000],\n",
       "       [       2007,   789000000],\n",
       "       [       2009,   904000000],\n",
       "       [       2010,  1000000000],\n",
       "       [       2012,  2990000000],\n",
       "       [       2013,  1000000000],\n",
       "       [       2011,  1160000000],\n",
       "       [       2010,  1170000000],\n",
       "       [       2010,  1200000000],\n",
       "       [       2012,  1200000000],\n",
       "       [       2012,  1303000000],\n",
       "       [       2010,  1400000000],\n",
       "       [       2012,  1400000000],\n",
       "       [       2014,  1400000000],\n",
       "       [       2006,  1700000000],\n",
       "       [       2015,  1750000000],\n",
       "       [       2013,  1860000000],\n",
       "       [       2015,  1900000000],\n",
       "       [       2008,  1900000000],\n",
       "       [       2010,  2000000000],\n",
       "       [       2014,  2000000000],\n",
       "       [       2015,  2000000000],\n",
       "       [       2015,  3000000000],\n",
       "       [       2012,  2100000000],\n",
       "       [       2011,  2270000000],\n",
       "       [       2010,  2300000000],\n",
       "       [       2014,  2600000000],\n",
       "       [       2011,  2600000000],\n",
       "       [       2012,  2750000000],\n",
       "       [       2014,  3000000000],\n",
       "       [       2016,  3000000000],\n",
       "       [       2017,  5300000000],\n",
       "       [       2017,  5300000000],\n",
       "       [       2018,  8500000000],\n",
       "       [       2012,  3100000000],\n",
       "       [       2016,  3200000000],\n",
       "       [       2016,  3300000000],\n",
       "       [       2015,  3990000000],\n",
       "       [       2013,  4200000000],\n",
       "       [       2017,  4300000000],\n",
       "       [       2014,  4310000000],\n",
       "       [       2017,  4800000000],\n",
       "       [       2017,  4800000000],\n",
       "       [       2017,  4800000000],\n",
       "       [       2012,  5000000000],\n",
       "       [       2013,  5000000000],\n",
       "       [       2014,  5560000000],\n",
       "       [       2017,  6100000000],\n",
       "       [       2018,  6900000000],\n",
       "       [       2016,  4000000000],\n",
       "       [       2018,  6900000000],\n",
       "       [       2017,  5500000000],\n",
       "       [       2018,  5500000000],\n",
       "       [       2017,  7000000000],\n",
       "       [       2015,  7100000000],\n",
       "       [       2017,  8000000000],\n",
       "       [       2016,  7200000000],\n",
       "       [       2017,  8000000000],\n",
       "       [       2016,  8000000000],\n",
       "       [       2017,  9700000000],\n",
       "       [       2017,   250000000],\n",
       "       [       2015, 10000000000],\n",
       "       [       2017,  5450000000],\n",
       "       [       2018, 10000000000],\n",
       "       [       2017,  4300000000],\n",
       "       [       2017, 18000000000],\n",
       "       [       2017, 19200000000],\n",
       "       [       2018,  8876000000],\n",
       "       [       2018, 23600000000],\n",
       "       [       2018,  9000000000]])"
      ]
     },
     "execution_count": 2,
     "metadata": {},
     "output_type": "execute_result"
    }
   ],
   "source": [
    "data = pd.read_csv('./data/moore.csv', header=None).values\n",
    "data"
   ]
  },
  {
   "cell_type": "code",
   "execution_count": 3,
   "metadata": {},
   "outputs": [
    {
     "data": {
      "text/plain": [
       "array([       2300,        3500,        2500,        2500,        4100,\n",
       "              4500,        8000,        3510,        5000,        8500,\n",
       "              6500,        9000,       29000,       17500,       29000,\n",
       "             68000,       11500,       55000,      134000,       22000,\n",
       "             63000,      190000,      275000,       25000,       16000,\n",
       "            110000,      375000,       30000,      385000,      730000,\n",
       "            273000,      553000,      180000,      250000,      600000,\n",
       "           1000000,     1180235,      310000,     1200000,     1350000,\n",
       "             35000,      600000,      900000,     2800000,     3100000,\n",
       "            578977,     2500000,     2500000,      111000,     5500000,\n",
       "           4300000,    10000000,     7500000,     8800000,     7500000,\n",
       "           9500000,    13500000,    21000000,    21000000,    27400000,\n",
       "          21300000,    22000000,    42000000,   191000000,    45000000,\n",
       "          55000000,   112000000,   400000000,   169000000,   184000000,\n",
       "         228000000,   362000000,   540000000,    47000000,    54300000,\n",
       "         105900000,   220000000,   165000000,   250000000,   291000000,\n",
       "         169000000,   410000000,   600000000,   760000000,  1870000000,\n",
       "         432000000,   463000000,    26000000,   230000000,   592000000,\n",
       "         411000000,   731000000,   758000000,   789000000,   904000000,\n",
       "        1000000000,  2990000000,  1000000000,  1160000000,  1170000000,\n",
       "        1200000000,  1200000000,  1303000000,  1400000000,  1400000000,\n",
       "        1400000000,  1700000000,  1750000000,  1860000000,  1900000000,\n",
       "        1900000000,  2000000000,  2000000000,  2000000000,  3000000000,\n",
       "        2100000000,  2270000000,  2300000000,  2600000000,  2600000000,\n",
       "        2750000000,  3000000000,  3000000000,  5300000000,  5300000000,\n",
       "        8500000000,  3100000000,  3200000000,  3300000000,  3990000000,\n",
       "        4200000000,  4300000000,  4310000000,  4800000000,  4800000000,\n",
       "        4800000000,  5000000000,  5000000000,  5560000000,  6100000000,\n",
       "        6900000000,  4000000000,  6900000000,  5500000000,  5500000000,\n",
       "        7000000000,  7100000000,  8000000000,  7200000000,  8000000000,\n",
       "        8000000000,  9700000000,   250000000, 10000000000,  5450000000,\n",
       "       10000000000,  4300000000, 18000000000, 19200000000,  8876000000,\n",
       "       23600000000,  9000000000])"
      ]
     },
     "execution_count": 3,
     "metadata": {},
     "output_type": "execute_result"
    }
   ],
   "source": [
    "X = data[:, 0].reshape(-1, 1) # make it a 2-D array of size N x D where D = 1\n",
    "Y = data[:, 1]\n",
    "Y"
   ]
  },
  {
   "cell_type": "code",
   "execution_count": 4,
   "metadata": {},
   "outputs": [
    {
     "data": {
      "text/plain": [
       "<matplotlib.collections.PathCollection at 0x115f39490>"
      ]
     },
     "execution_count": 4,
     "metadata": {},
     "output_type": "execute_result"
    },
    {
     "data": {
      "image/png": "[encoded data removed]",
      "text/plain": [
       "<Figure size 432x288 with 1 Axes>"
      ]
     },
     "metadata": {
      "needs_background": "light"
     },
     "output_type": "display_data"
    }
   ],
   "source": [
    "plt.scatter(X, Y)"
   ]
  },
  {
   "cell_type": "code",
   "execution_count": 5,
   "metadata": {},
   "outputs": [
    {
     "data": {
      "text/plain": [
       "<matplotlib.collections.PathCollection at 0x115f39290>"
      ]
     },
     "execution_count": 5,
     "metadata": {},
     "output_type": "execute_result"
    },
    {
     "data": {
      "image/png": "[encoded data removed]",
      "text/plain": [
       "<Figure size 432x288 with 1 Axes>"
      ]
     },
     "metadata": {
      "needs_background": "light"
     },
     "output_type": "display_data"
    }
   ],
   "source": [
    "# Since we want a linear model, let's take the log\n",
    "Y = np.log(Y)\n",
    "plt.scatter(X, Y)"
   ]
  },
  {
   "cell_type": "code",
   "execution_count": 6,
   "metadata": {},
   "outputs": [
    {
     "data": {
      "text/plain": [
       "<matplotlib.collections.PathCollection at 0x11602c190>"
      ]
     },
     "execution_count": 6,
     "metadata": {},
     "output_type": "execute_result"
    },
    {
     "data": {
      "image/png": "[encoded data removed]",
      "text/plain": [
       "<Figure size 432x288 with 1 Axes>"
      ]
     },
     "metadata": {
      "needs_background": "light"
     },
     "output_type": "display_data"
    }
   ],
   "source": [
    "X = X - X.mean() # scaling\n",
    "plt.scatter(X, Y)"
   ]
  },
  {
   "cell_type": "code",
   "execution_count": 7,
   "metadata": {},
   "outputs": [],
   "source": [
    "from tensorflow.keras.models import Sequential\n",
    "from tensorflow.keras.layers import Dense, Input\n",
    "from tensorflow.keras.optimizers import SGD\n",
    "from tensorflow.keras.callbacks import LearningRateScheduler"
   ]
  },
  {
   "cell_type": "code",
   "execution_count": 8,
   "metadata": {},
   "outputs": [],
   "source": [
    "model = Sequential([\n",
    "    Input(shape=(1,)),\n",
    "    Dense(1)\n",
    "])"
   ]
  },
  {
   "cell_type": "code",
   "execution_count": 9,
   "metadata": {},
   "outputs": [],
   "source": [
    "model.compile(optimizer=SGD(learning_rate=0.001, momentum=0.9), loss='mse')\n",
    "# model.compile(optimizer='adam', loss='mse')"
   ]
  },
  {
   "cell_type": "code",
   "execution_count": 10,
   "metadata": {},
   "outputs": [],
   "source": [
    "# learning rate schedule\n",
    "def schedule(epoch, lr):\n",
    "    if epoch >= 50:\n",
    "        return 0.0001\n",
    "    return 0.001"
   ]
  },
  {
   "cell_type": "code",
   "execution_count": 11,
   "metadata": {},
   "outputs": [],
   "source": [
    "scheduler = LearningRateScheduler(schedule)"
   ]
  },
  {
   "cell_type": "code",
   "execution_count": 12,
   "metadata": {},
   "outputs": [
    {
     "name": "stdout",
     "output_type": "stream",
     "text": [
      "Train on 162 samples\n",
      "Epoch 1/200\n",
      "162/162 [==============================] - 0s 3ms/sample - loss: 551.9981\n",
      "Epoch 2/200\n",
      "162/162 [==============================] - 0s 77us/sample - loss: 389.4380\n",
      "Epoch 3/200\n",
      "162/162 [==============================] - 0s 65us/sample - loss: 337.9757\n",
      "Epoch 4/200\n",
      "162/162 [==============================] - 0s 74us/sample - loss: 266.3626\n",
      "Epoch 5/200\n",
      "162/162 [==============================] - 0s 68us/sample - loss: 156.7933\n",
      "Epoch 6/200\n",
      "162/162 [==============================] - 0s 63us/sample - loss: 138.5571\n",
      "Epoch 7/200\n",
      "162/162 [==============================] - 0s 83us/sample - loss: 115.0455\n",
      "Epoch 8/200\n",
      "162/162 [==============================] - 0s 64us/sample - loss: 112.4694\n",
      "Epoch 9/200\n",
      "162/162 [==============================] - 0s 63us/sample - loss: 76.2519\n",
      "Epoch 10/200\n",
      "162/162 [==============================] - 0s 91us/sample - loss: 72.7112\n",
      "Epoch 11/200\n",
      "162/162 [==============================] - 0s 76us/sample - loss: 55.7467\n",
      "Epoch 12/200\n",
      "162/162 [==============================] - 0s 70us/sample - loss: 39.5786\n",
      "Epoch 13/200\n",
      "162/162 [==============================] - 0s 79us/sample - loss: 28.0613\n",
      "Epoch 14/200\n",
      "162/162 [==============================] - 0s 80us/sample - loss: 18.5363\n",
      "Epoch 15/200\n",
      "162/162 [==============================] - 0s 79us/sample - loss: 9.9290\n",
      "Epoch 16/200\n",
      "162/162 [==============================] - 0s 92us/sample - loss: 6.0473\n",
      "Epoch 17/200\n",
      "162/162 [==============================] - 0s 87us/sample - loss: 4.4977\n",
      "Epoch 18/200\n",
      "162/162 [==============================] - 0s 74us/sample - loss: 4.8385\n",
      "Epoch 19/200\n",
      "162/162 [==============================] - 0s 73us/sample - loss: 4.7145\n",
      "Epoch 20/200\n",
      "162/162 [==============================] - 0s 82us/sample - loss: 3.4055\n",
      "Epoch 21/200\n",
      "162/162 [==============================] - 0s 87us/sample - loss: 3.4198\n",
      "Epoch 22/200\n",
      "162/162 [==============================] - 0s 92us/sample - loss: 2.5436\n",
      "Epoch 23/200\n",
      "162/162 [==============================] - 0s 81us/sample - loss: 2.3969\n",
      "Epoch 24/200\n",
      "162/162 [==============================] - 0s 78us/sample - loss: 3.0176\n",
      "Epoch 25/200\n",
      "162/162 [==============================] - 0s 81us/sample - loss: 2.8413\n",
      "Epoch 26/200\n",
      "162/162 [==============================] - 0s 80us/sample - loss: 1.5962\n",
      "Epoch 27/200\n",
      "162/162 [==============================] - 0s 82us/sample - loss: 1.1900\n",
      "Epoch 28/200\n",
      "162/162 [==============================] - 0s 85us/sample - loss: 1.1121\n",
      "Epoch 29/200\n",
      "162/162 [==============================] - 0s 82us/sample - loss: 1.0052\n",
      "Epoch 30/200\n",
      "162/162 [==============================] - 0s 88us/sample - loss: 1.0998\n",
      "Epoch 31/200\n",
      "162/162 [==============================] - 0s 89us/sample - loss: 1.6979\n",
      "Epoch 32/200\n",
      "162/162 [==============================] - 0s 95us/sample - loss: 1.4284\n",
      "Epoch 33/200\n",
      "162/162 [==============================] - 0s 89us/sample - loss: 1.0938\n",
      "Epoch 34/200\n",
      "162/162 [==============================] - 0s 100us/sample - loss: 0.9646\n",
      "Epoch 35/200\n",
      "162/162 [==============================] - 0s 101us/sample - loss: 0.9998\n",
      "Epoch 36/200\n",
      "162/162 [==============================] - 0s 101us/sample - loss: 1.0112\n",
      "Epoch 37/200\n",
      "162/162 [==============================] - 0s 93us/sample - loss: 0.8810\n",
      "Epoch 38/200\n",
      "162/162 [==============================] - 0s 66us/sample - loss: 0.8852\n",
      "Epoch 39/200\n",
      "162/162 [==============================] - 0s 81us/sample - loss: 0.9624\n",
      "Epoch 40/200\n",
      "162/162 [==============================] - 0s 67us/sample - loss: 0.9627\n",
      "Epoch 41/200\n",
      "162/162 [==============================] - 0s 79us/sample - loss: 0.9111\n",
      "Epoch 42/200\n",
      "162/162 [==============================] - 0s 74us/sample - loss: 0.8865\n",
      "Epoch 43/200\n",
      "162/162 [==============================] - 0s 63us/sample - loss: 1.0184\n",
      "Epoch 44/200\n",
      "162/162 [==============================] - 0s 67us/sample - loss: 0.9103\n",
      "Epoch 45/200\n",
      "162/162 [==============================] - 0s 94us/sample - loss: 0.8752\n",
      "Epoch 46/200\n",
      "162/162 [==============================] - 0s 97us/sample - loss: 0.8700\n",
      "Epoch 47/200\n",
      "162/162 [==============================] - 0s 99us/sample - loss: 0.9644\n",
      "Epoch 48/200\n",
      "162/162 [==============================] - 0s 89us/sample - loss: 0.8780\n",
      "Epoch 49/200\n",
      "162/162 [==============================] - 0s 84us/sample - loss: 0.8653\n",
      "Epoch 50/200\n",
      "162/162 [==============================] - 0s 89us/sample - loss: 0.8975\n",
      "Epoch 51/200\n",
      "162/162 [==============================] - 0s 76us/sample - loss: 1.0236\n",
      "Epoch 52/200\n",
      "162/162 [==============================] - 0s 77us/sample - loss: 1.0691\n",
      "Epoch 53/200\n",
      "162/162 [==============================] - 0s 88us/sample - loss: 0.8877\n",
      "Epoch 54/200\n",
      "162/162 [==============================] - 0s 81us/sample - loss: 0.8910\n",
      "Epoch 55/200\n",
      "162/162 [==============================] - 0s 78us/sample - loss: 0.8831\n",
      "Epoch 56/200\n",
      "162/162 [==============================] - 0s 71us/sample - loss: 0.8706\n",
      "Epoch 57/200\n",
      "162/162 [==============================] - 0s 79us/sample - loss: 0.8696\n",
      "Epoch 58/200\n",
      "162/162 [==============================] - 0s 85us/sample - loss: 0.8730\n",
      "Epoch 59/200\n",
      "162/162 [==============================] - 0s 72us/sample - loss: 0.8717\n",
      "Epoch 60/200\n",
      "162/162 [==============================] - 0s 84us/sample - loss: 0.8713\n",
      "Epoch 61/200\n",
      "162/162 [==============================] - 0s 98us/sample - loss: 0.8723\n",
      "Epoch 62/200\n",
      "162/162 [==============================] - 0s 67us/sample - loss: 0.8777\n",
      "Epoch 63/200\n",
      "162/162 [==============================] - 0s 84us/sample - loss: 0.8765\n",
      "Epoch 64/200\n",
      "162/162 [==============================] - 0s 76us/sample - loss: 0.9315\n",
      "Epoch 65/200\n",
      "162/162 [==============================] - 0s 65us/sample - loss: 0.8979\n",
      "Epoch 66/200\n",
      "162/162 [==============================] - 0s 66us/sample - loss: 0.8687\n",
      "Epoch 67/200\n",
      "162/162 [==============================] - 0s 69us/sample - loss: 0.8778\n",
      "Epoch 68/200\n",
      "162/162 [==============================] - 0s 74us/sample - loss: 0.8698\n",
      "Epoch 69/200\n",
      "162/162 [==============================] - 0s 77us/sample - loss: 0.8767\n",
      "Epoch 70/200\n",
      "162/162 [==============================] - 0s 74us/sample - loss: 0.8805\n",
      "Epoch 71/200\n",
      "162/162 [==============================] - 0s 69us/sample - loss: 0.8707\n",
      "Epoch 72/200\n",
      "162/162 [==============================] - 0s 69us/sample - loss: 0.8732\n",
      "Epoch 73/200\n",
      "162/162 [==============================] - 0s 79us/sample - loss: 0.8727\n",
      "Epoch 74/200\n",
      "162/162 [==============================] - 0s 74us/sample - loss: 0.8836\n",
      "Epoch 75/200\n",
      "162/162 [==============================] - 0s 66us/sample - loss: 0.8861\n",
      "Epoch 76/200\n",
      "162/162 [==============================] - 0s 68us/sample - loss: 0.8764\n",
      "Epoch 77/200\n",
      "162/162 [==============================] - 0s 67us/sample - loss: 0.8778\n",
      "Epoch 78/200\n",
      "162/162 [==============================] - 0s 74us/sample - loss: 0.8719\n",
      "Epoch 79/200\n",
      "162/162 [==============================] - 0s 70us/sample - loss: 0.8724\n",
      "Epoch 80/200\n",
      "162/162 [==============================] - 0s 59us/sample - loss: 0.8749\n",
      "Epoch 81/200\n",
      "162/162 [==============================] - 0s 70us/sample - loss: 0.8749\n",
      "Epoch 82/200\n",
      "162/162 [==============================] - 0s 76us/sample - loss: 0.8713\n",
      "Epoch 83/200\n",
      "162/162 [==============================] - 0s 65us/sample - loss: 0.8755\n",
      "Epoch 84/200\n",
      "162/162 [==============================] - 0s 58us/sample - loss: 0.8793\n",
      "Epoch 85/200\n",
      "162/162 [==============================] - 0s 81us/sample - loss: 0.8801\n",
      "Epoch 86/200\n",
      "162/162 [==============================] - 0s 71us/sample - loss: 0.8757\n",
      "Epoch 87/200\n",
      "162/162 [==============================] - 0s 86us/sample - loss: 0.8764\n",
      "Epoch 88/200\n",
      "162/162 [==============================] - 0s 87us/sample - loss: 0.8714\n",
      "Epoch 89/200\n",
      "162/162 [==============================] - 0s 86us/sample - loss: 0.8697\n",
      "Epoch 90/200\n",
      "162/162 [==============================] - 0s 74us/sample - loss: 0.8710\n",
      "Epoch 91/200\n",
      "162/162 [==============================] - 0s 76us/sample - loss: 0.8761\n",
      "Epoch 92/200\n",
      "162/162 [==============================] - 0s 74us/sample - loss: 0.8745\n",
      "Epoch 93/200\n",
      "162/162 [==============================] - 0s 75us/sample - loss: 0.8709\n",
      "Epoch 94/200\n",
      "162/162 [==============================] - 0s 75us/sample - loss: 0.8746\n",
      "Epoch 95/200\n"
     ]
    },
    {
     "name": "stdout",
     "output_type": "stream",
     "text": [
      "162/162 [==============================] - 0s 73us/sample - loss: 0.8719\n",
      "Epoch 96/200\n",
      "162/162 [==============================] - 0s 85us/sample - loss: 0.8720\n",
      "Epoch 97/200\n",
      "162/162 [==============================] - 0s 72us/sample - loss: 0.8845\n",
      "Epoch 98/200\n",
      "162/162 [==============================] - 0s 75us/sample - loss: 0.8708\n",
      "Epoch 99/200\n",
      "162/162 [==============================] - 0s 84us/sample - loss: 0.8705\n",
      "Epoch 100/200\n",
      "162/162 [==============================] - 0s 86us/sample - loss: 0.8713\n",
      "Epoch 101/200\n",
      "162/162 [==============================] - 0s 75us/sample - loss: 0.8701\n",
      "Epoch 102/200\n",
      "162/162 [==============================] - 0s 73us/sample - loss: 0.8778\n",
      "Epoch 103/200\n",
      "162/162 [==============================] - 0s 63us/sample - loss: 0.8768\n",
      "Epoch 104/200\n",
      "162/162 [==============================] - 0s 69us/sample - loss: 0.8715\n",
      "Epoch 105/200\n",
      "162/162 [==============================] - 0s 73us/sample - loss: 0.8716\n",
      "Epoch 106/200\n",
      "162/162 [==============================] - 0s 81us/sample - loss: 0.8745\n",
      "Epoch 107/200\n",
      "162/162 [==============================] - 0s 64us/sample - loss: 0.8697\n",
      "Epoch 108/200\n",
      "162/162 [==============================] - 0s 62us/sample - loss: 0.8769\n",
      "Epoch 109/200\n",
      "162/162 [==============================] - 0s 76us/sample - loss: 0.8777\n",
      "Epoch 110/200\n",
      "162/162 [==============================] - 0s 76us/sample - loss: 0.8852\n",
      "Epoch 111/200\n",
      "162/162 [==============================] - 0s 60us/sample - loss: 0.9079\n",
      "Epoch 112/200\n",
      "162/162 [==============================] - 0s 73us/sample - loss: 0.8777\n",
      "Epoch 113/200\n",
      "162/162 [==============================] - 0s 79us/sample - loss: 0.8710\n",
      "Epoch 114/200\n",
      "162/162 [==============================] - 0s 77us/sample - loss: 0.8714\n",
      "Epoch 115/200\n",
      "162/162 [==============================] - 0s 83us/sample - loss: 0.8893\n",
      "Epoch 116/200\n",
      "162/162 [==============================] - 0s 69us/sample - loss: 0.8863\n",
      "Epoch 117/200\n",
      "162/162 [==============================] - 0s 124us/sample - loss: 0.8750\n",
      "Epoch 118/200\n",
      "162/162 [==============================] - 0s 89us/sample - loss: 0.8852\n",
      "Epoch 119/200\n",
      "162/162 [==============================] - 0s 88us/sample - loss: 0.8906\n",
      "Epoch 120/200\n",
      "162/162 [==============================] - 0s 74us/sample - loss: 0.8797\n",
      "Epoch 121/200\n",
      "162/162 [==============================] - 0s 73us/sample - loss: 0.8748\n",
      "Epoch 122/200\n",
      "162/162 [==============================] - 0s 64us/sample - loss: 0.8753\n",
      "Epoch 123/200\n",
      "162/162 [==============================] - 0s 76us/sample - loss: 0.8695\n",
      "Epoch 124/200\n",
      "162/162 [==============================] - 0s 69us/sample - loss: 0.8711\n",
      "Epoch 125/200\n",
      "162/162 [==============================] - 0s 69us/sample - loss: 0.8711\n",
      "Epoch 126/200\n",
      "162/162 [==============================] - 0s 64us/sample - loss: 0.8736\n",
      "Epoch 127/200\n",
      "162/162 [==============================] - 0s 71us/sample - loss: 0.8719\n",
      "Epoch 128/200\n",
      "162/162 [==============================] - 0s 83us/sample - loss: 0.8805\n",
      "Epoch 129/200\n",
      "162/162 [==============================] - 0s 83us/sample - loss: 0.8831\n",
      "Epoch 130/200\n",
      "162/162 [==============================] - 0s 74us/sample - loss: 0.8751\n",
      "Epoch 131/200\n",
      "162/162 [==============================] - 0s 68us/sample - loss: 0.8741\n",
      "Epoch 132/200\n",
      "162/162 [==============================] - 0s 60us/sample - loss: 0.8701\n",
      "Epoch 133/200\n",
      "162/162 [==============================] - 0s 67us/sample - loss: 0.8709\n",
      "Epoch 134/200\n",
      "162/162 [==============================] - 0s 72us/sample - loss: 0.8749\n",
      "Epoch 135/200\n",
      "162/162 [==============================] - 0s 60us/sample - loss: 0.8731\n",
      "Epoch 136/200\n",
      "162/162 [==============================] - 0s 67us/sample - loss: 0.8705\n",
      "Epoch 137/200\n",
      "162/162 [==============================] - 0s 66us/sample - loss: 0.8754\n",
      "Epoch 138/200\n",
      "162/162 [==============================] - 0s 56us/sample - loss: 0.8745\n",
      "Epoch 139/200\n",
      "162/162 [==============================] - 0s 66us/sample - loss: 0.8822\n",
      "Epoch 140/200\n",
      "162/162 [==============================] - 0s 71us/sample - loss: 0.8720\n",
      "Epoch 141/200\n",
      "162/162 [==============================] - 0s 64us/sample - loss: 0.8750\n",
      "Epoch 142/200\n",
      "162/162 [==============================] - 0s 76us/sample - loss: 0.8729\n",
      "Epoch 143/200\n",
      "162/162 [==============================] - 0s 73us/sample - loss: 0.8732\n",
      "Epoch 144/200\n",
      "162/162 [==============================] - 0s 70us/sample - loss: 0.8736\n",
      "Epoch 145/200\n",
      "162/162 [==============================] - 0s 67us/sample - loss: 0.8880\n",
      "Epoch 146/200\n",
      "162/162 [==============================] - 0s 67us/sample - loss: 0.8704\n",
      "Epoch 147/200\n",
      "162/162 [==============================] - 0s 80us/sample - loss: 0.8736\n",
      "Epoch 148/200\n",
      "162/162 [==============================] - 0s 71us/sample - loss: 0.8719\n",
      "Epoch 149/200\n",
      "162/162 [==============================] - 0s 76us/sample - loss: 0.8808\n",
      "Epoch 150/200\n",
      "162/162 [==============================] - 0s 62us/sample - loss: 0.8766\n",
      "Epoch 151/200\n",
      "162/162 [==============================] - 0s 67us/sample - loss: 0.8706\n",
      "Epoch 152/200\n",
      "162/162 [==============================] - 0s 71us/sample - loss: 0.8787\n",
      "Epoch 153/200\n",
      "162/162 [==============================] - 0s 70us/sample - loss: 0.8718\n",
      "Epoch 154/200\n",
      "162/162 [==============================] - 0s 58us/sample - loss: 0.8714\n",
      "Epoch 155/200\n",
      "162/162 [==============================] - 0s 67us/sample - loss: 0.8693\n",
      "Epoch 156/200\n",
      "162/162 [==============================] - 0s 64us/sample - loss: 0.8765\n",
      "Epoch 157/200\n",
      "162/162 [==============================] - 0s 68us/sample - loss: 0.8784\n",
      "Epoch 158/200\n",
      "162/162 [==============================] - 0s 60us/sample - loss: 0.8729\n",
      "Epoch 159/200\n",
      "162/162 [==============================] - 0s 73us/sample - loss: 0.8742\n",
      "Epoch 160/200\n",
      "162/162 [==============================] - 0s 66us/sample - loss: 0.8789\n",
      "Epoch 161/200\n",
      "162/162 [==============================] - 0s 80us/sample - loss: 0.8804\n",
      "Epoch 162/200\n",
      "162/162 [==============================] - 0s 68us/sample - loss: 0.8777\n",
      "Epoch 163/200\n",
      "162/162 [==============================] - 0s 69us/sample - loss: 0.8731\n",
      "Epoch 164/200\n",
      "162/162 [==============================] - 0s 82us/sample - loss: 0.8763\n",
      "Epoch 165/200\n",
      "162/162 [==============================] - 0s 121us/sample - loss: 0.8716\n",
      "Epoch 166/200\n",
      "162/162 [==============================] - 0s 96us/sample - loss: 0.8722\n",
      "Epoch 167/200\n",
      "162/162 [==============================] - 0s 83us/sample - loss: 0.8951\n",
      "Epoch 168/200\n",
      "162/162 [==============================] - 0s 78us/sample - loss: 0.8679\n",
      "Epoch 169/200\n",
      "162/162 [==============================] - 0s 64us/sample - loss: 0.8830\n",
      "Epoch 170/200\n",
      "162/162 [==============================] - 0s 64us/sample - loss: 0.8798\n",
      "Epoch 171/200\n",
      "162/162 [==============================] - 0s 68us/sample - loss: 0.8726\n",
      "Epoch 172/200\n",
      "162/162 [==============================] - 0s 84us/sample - loss: 0.8725\n",
      "Epoch 173/200\n",
      "162/162 [==============================] - 0s 76us/sample - loss: 0.8721\n",
      "Epoch 174/200\n",
      "162/162 [==============================] - 0s 72us/sample - loss: 0.8766\n",
      "Epoch 175/200\n",
      "162/162 [==============================] - 0s 73us/sample - loss: 0.8707\n",
      "Epoch 176/200\n",
      "162/162 [==============================] - 0s 58us/sample - loss: 0.8696\n",
      "Epoch 177/200\n",
      "162/162 [==============================] - 0s 73us/sample - loss: 0.8789\n",
      "Epoch 178/200\n",
      "162/162 [==============================] - 0s 73us/sample - loss: 0.8833\n",
      "Epoch 179/200\n",
      "162/162 [==============================] - 0s 78us/sample - loss: 0.8888\n",
      "Epoch 180/200\n",
      "162/162 [==============================] - 0s 73us/sample - loss: 0.8820\n",
      "Epoch 181/200\n",
      "162/162 [==============================] - 0s 63us/sample - loss: 0.9064\n",
      "Epoch 182/200\n",
      "162/162 [==============================] - 0s 65us/sample - loss: 0.9352\n",
      "Epoch 183/200\n",
      "162/162 [==============================] - 0s 64us/sample - loss: 0.8803\n",
      "Epoch 184/200\n",
      "162/162 [==============================] - 0s 61us/sample - loss: 0.8743\n",
      "Epoch 185/200\n",
      "162/162 [==============================] - 0s 67us/sample - loss: 0.8717\n",
      "Epoch 186/200\n",
      "162/162 [==============================] - 0s 78us/sample - loss: 0.8858\n",
      "Epoch 187/200\n",
      "162/162 [==============================] - 0s 65us/sample - loss: 0.8888\n",
      "Epoch 188/200\n",
      "162/162 [==============================] - 0s 56us/sample - loss: 0.8774\n",
      "Epoch 189/200\n"
     ]
    },
    {
     "name": "stdout",
     "output_type": "stream",
     "text": [
      "162/162 [==============================] - 0s 69us/sample - loss: 0.8720\n",
      "Epoch 190/200\n",
      "162/162 [==============================] - 0s 65us/sample - loss: 0.8745\n",
      "Epoch 191/200\n",
      "162/162 [==============================] - 0s 66us/sample - loss: 0.8724\n",
      "Epoch 192/200\n",
      "162/162 [==============================] - 0s 69us/sample - loss: 0.8745\n",
      "Epoch 193/200\n",
      "162/162 [==============================] - 0s 65us/sample - loss: 0.8687\n",
      "Epoch 194/200\n",
      "162/162 [==============================] - 0s 69us/sample - loss: 0.9055\n",
      "Epoch 195/200\n",
      "162/162 [==============================] - 0s 65us/sample - loss: 0.8751\n",
      "Epoch 196/200\n",
      "162/162 [==============================] - 0s 64us/sample - loss: 0.8925\n",
      "Epoch 197/200\n",
      "162/162 [==============================] - 0s 58us/sample - loss: 0.9178\n",
      "Epoch 198/200\n",
      "162/162 [==============================] - 0s 76us/sample - loss: 0.8752\n",
      "Epoch 199/200\n",
      "162/162 [==============================] - 0s 73us/sample - loss: 0.8815\n",
      "Epoch 200/200\n",
      "162/162 [==============================] - 0s 89us/sample - loss: 0.8825\n"
     ]
    }
   ],
   "source": [
    "r = model.fit(X, Y, epochs=200, callbacks=[scheduler])"
   ]
  },
  {
   "cell_type": "code",
   "execution_count": 13,
   "metadata": {},
   "outputs": [
    {
     "data": {
      "image/png": "[encoded data removed]",
      "text/plain": [
       "<Figure size 432x288 with 1 Axes>"
      ]
     },
     "metadata": {
      "needs_background": "light"
     },
     "output_type": "display_data"
    }
   ],
   "source": [
    "plt.plot(r.history['loss'], label='loss')\n",
    "plt.show()"
   ]
  },
  {
   "cell_type": "code",
   "execution_count": 14,
   "metadata": {},
   "outputs": [
    {
     "name": "stdout",
     "output_type": "stream",
     "text": [
      "[<tensorflow.python.keras.layers.core.Dense object at 0x6304b4810>]\n",
      "[array([[0.34739107]], dtype=float32), array([17.768204], dtype=float32)]\n"
     ]
    }
   ],
   "source": [
    "print(model.layers) # Note: there is only 1 layer, the \"Input\" layer doesn't count\n",
    "print(model.layers[0].get_weights())"
   ]
  },
  {
   "cell_type": "code",
   "execution_count": 15,
   "metadata": {},
   "outputs": [],
   "source": [
    "a = model.layers[0].get_weights()[0][0,0]"
   ]
  },
  {
   "cell_type": "code",
   "execution_count": 16,
   "metadata": {},
   "outputs": [
    {
     "name": "stdout",
     "output_type": "stream",
     "text": [
      "Time to double: 1.9952936115604418\n"
     ]
    }
   ],
   "source": [
    "print(\"Time to double:\", np.log(2) / a)"
   ]
  },
  {
   "cell_type": "code",
   "execution_count": 17,
   "metadata": {},
   "outputs": [],
   "source": [
    "X = np.array(X).flatten()\n",
    "Y = np.array(Y)"
   ]
  },
  {
   "cell_type": "code",
   "execution_count": 18,
   "metadata": {},
   "outputs": [],
   "source": [
    "denominator = X.dot(X) - X.mean() * X.sum()"
   ]
  },
  {
   "cell_type": "code",
   "execution_count": 19,
   "metadata": {},
   "outputs": [
    {
     "name": "stdout",
     "output_type": "stream",
     "text": [
      "0.34168248738731316 17.764939393631764\n",
      "Time to double: 2.0286295205239195\n"
     ]
    }
   ],
   "source": [
    "a = ( X.dot(Y) - Y.mean()*X.sum() ) / denominator\n",
    "b = ( Y.mean() * X.dot(X) - X.mean() * X.dot(Y) ) / denominator\n",
    "print(a, b)\n",
    "print(\"Time to double:\", np.log(2) / a)"
   ]
  },
  {
   "cell_type": "code",
   "execution_count": 20,
   "metadata": {},
   "outputs": [
    {
     "data": {
      "text/plain": [
       "[<matplotlib.lines.Line2D at 0x6305eadd0>]"
      ]
     },
     "execution_count": 20,
     "metadata": {},
     "output_type": "execute_result"
    },
    {
     "data": {
      "image/png": "[encoded data removed]",
      "text/plain": [
       "<Figure size 432x288 with 1 Axes>"
      ]
     },
     "metadata": {
      "needs_background": "light"
     },
     "output_type": "display_data"
    }
   ],
   "source": [
    "Yhat = model.predict(X).flatten()\n",
    "plt.scatter(X, Y)\n",
    "plt.plot(X, Yhat)"
   ]
  },
  {
   "cell_type": "code",
   "execution_count": 21,
   "metadata": {},
   "outputs": [],
   "source": [
    "w, b = model.layers[0].get_weights()"
   ]
  },
  {
   "cell_type": "code",
   "execution_count": 22,
   "metadata": {},
   "outputs": [],
   "source": [
    "X = X.reshape(-1, 1)"
   ]
  },
  {
   "cell_type": "code",
   "execution_count": 23,
   "metadata": {},
   "outputs": [],
   "source": [
    "Yhat2 = (X.dot(w) + b).flatten()"
   ]
  },
  {
   "cell_type": "code",
   "execution_count": 24,
   "metadata": {},
   "outputs": [
    {
     "data": {
      "text/plain": [
       "True"
      ]
     },
     "execution_count": 24,
     "metadata": {},
     "output_type": "execute_result"
    }
   ],
   "source": [
    "np.allclose(Yhat, Yhat2)"
   ]
  },
  {
   "cell_type": "code",
   "execution_count": null,
   "metadata": {},
   "outputs": [],
   "source": []
  }
 ],
 "metadata": {
  "kernelspec": {
   "display_name": "Python 3",
   "language": "python",
   "name": "python3"
  },
  "language_info": {
   "codemirror_mode": {
    "name": "ipython",
    "version": 3
   },
   "file_extension": ".py",
   "mimetype": "text/x-python",
   "name": "python",
   "nbconvert_exporter": "python",
   "pygments_lexer": "ipython3",
   "version": "3.7.4"
  }
 },
 "nbformat": 4,
 "nbformat_minor": 2
}

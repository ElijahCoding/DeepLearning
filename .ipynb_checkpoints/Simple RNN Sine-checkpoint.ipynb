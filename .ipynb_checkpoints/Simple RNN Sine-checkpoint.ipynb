{
 "cells": [
  {
   "cell_type": "code",
   "execution_count": 1,
   "metadata": {},
   "outputs": [
    {
     "name": "stdout",
     "output_type": "stream",
     "text": [
      "2.0.0\n"
     ]
    }
   ],
   "source": [
    "import tensorflow as tf\n",
    "print(tf.__version__)"
   ]
  },
  {
   "cell_type": "code",
   "execution_count": 2,
   "metadata": {},
   "outputs": [],
   "source": [
    "from tensorflow.keras.layers import Input, Dense, SimpleRNN, Flatten\n",
    "from tensorflow.keras.models import Model\n",
    "from tensorflow.keras.optimizers import SGD, Adam\n",
    "\n",
    "import numpy as np\n",
    "import pandas as pd\n",
    "import matplotlib.pyplot as plt"
   ]
  },
  {
   "cell_type": "code",
   "execution_count": 3,
   "metadata": {},
   "outputs": [
    {
     "data": {
      "text/plain": [
       "array([ 0.04395997,  0.1042858 ,  0.02104239,  0.03771786,  0.34950546,\n",
       "        0.30311034,  0.47896497,  0.63508734,  0.74550725,  0.82608991,\n",
       "        0.78599072,  0.92153095,  0.93796063,  1.01285704,  0.81860392,\n",
       "        1.05740368,  1.13642602,  0.83138118,  1.15473842,  0.96931326,\n",
       "        0.93407014,  1.04485377,  0.79689687,  0.68279379,  0.77960204,\n",
       "        0.52769624,  0.71497788,  0.4833093 ,  0.56440778,  0.30929011,\n",
       "        0.04344813, -0.07382269,  0.18567008, -0.20658238, -0.28773588,\n",
       "       -0.44208128, -0.43155549, -0.47577882, -0.68128689, -0.7747786 ,\n",
       "       -0.73262444, -0.72793325, -0.85023525, -0.82391641, -0.95351665,\n",
       "       -1.05278167, -1.0148195 , -1.05667124, -1.02554539, -0.91081627,\n",
       "       -1.10697549, -0.91383901, -0.8165197 , -0.9042071 , -0.60944214,\n",
       "       -0.73403503, -0.66028415, -0.68884086, -0.48871428, -0.36833986,\n",
       "       -0.31212759, -0.18960012, -0.13810717, -0.04508136, -0.09265907,\n",
       "        0.25138691,  0.2684092 ,  0.42424591,  0.48784541,  0.43610945,\n",
       "        0.71768162,  0.77068284,  0.85515582,  0.74287792,  0.82216141,\n",
       "        1.06494136,  0.99502429,  0.96318039,  0.97877288,  1.0013377 ,\n",
       "        1.00005248,  1.04699952,  0.80506084,  0.92490513,  0.87797447,\n",
       "        0.83987609,  0.74762364,  0.54549837,  0.685548  ,  0.44322132,\n",
       "        0.36176495,  0.36407974,  0.32543059,  0.15162932, -0.07486269,\n",
       "        0.00165894, -0.05466589, -0.34902263, -0.42764766, -0.53189512,\n",
       "       -0.57879433, -0.70058708, -0.80953693, -0.96884186, -1.01104061,\n",
       "       -0.9766799 , -1.01398199, -0.95655243, -1.00062296, -1.03946827,\n",
       "       -1.0647567 , -1.11300897, -1.0001518 , -1.02402678, -0.79536829,\n",
       "       -0.78815369, -0.69401516, -0.80042831, -0.57125514, -0.61101715,\n",
       "       -0.50153626, -0.49100203, -0.44112655, -0.24180709, -0.14719565,\n",
       "       -0.13533405,  0.00818858,  0.28531922,  0.36613381,  0.42939797,\n",
       "        0.40879751,  0.53709038,  0.72566013,  0.83923242,  1.03879107,\n",
       "        0.74093094,  0.82040473,  0.91160991,  0.89005604,  1.25629674,\n",
       "        1.06029078,  1.01141806,  0.95508526,  0.90538927,  1.05733347,\n",
       "        0.89621324,  0.88353519,  0.73521235,  0.88876905,  0.78323945,\n",
       "        0.51503817,  0.61155325,  0.49465099,  0.35236189,  0.20422133,\n",
       "        0.1263634 ,  0.07551039, -0.02026859, -0.11757115, -0.10712048,\n",
       "       -0.26659981, -0.45237693, -0.33932727, -0.43455535, -0.72753674,\n",
       "       -0.62033818, -0.76961777, -0.88894801, -0.82801523, -1.10302975,\n",
       "       -1.04457356, -1.0674125 , -1.04821148, -1.04087499, -0.89073183,\n",
       "       -1.06718716, -1.05187918, -0.88869967, -0.93967093, -0.79473014,\n",
       "       -0.7185581 , -0.6812806 , -0.63634359, -0.4777606 , -0.2493954 ,\n",
       "       -0.29085419, -0.28804976, -0.19506362, -0.00750338,  0.10709258,\n",
       "        0.0949193 ,  0.12818063,  0.17247805,  0.55538221,  0.57901188,\n",
       "        0.69232367,  0.61231847,  0.85392083,  0.94257446,  0.91755097])"
      ]
     },
     "execution_count": 3,
     "metadata": {},
     "output_type": "execute_result"
    }
   ],
   "source": [
    "series = np.sin(0.1 * np.arange(0, 200)) + np.random.randn(200) * 0.1\n",
    "series"
   ]
  },
  {
   "cell_type": "code",
   "execution_count": 4,
   "metadata": {},
   "outputs": [
    {
     "data": {
      "image/png": "[encoded data removed]",
      "text/plain": [
       "<Figure size 432x288 with 1 Axes>"
      ]
     },
     "metadata": {
      "needs_background": "light"
     },
     "output_type": "display_data"
    }
   ],
   "source": [
    "plt.plot(series)\n",
    "plt.show()"
   ]
  },
  {
   "cell_type": "code",
   "execution_count": 5,
   "metadata": {},
   "outputs": [
    {
     "name": "stdout",
     "output_type": "stream",
     "text": [
      "X.shape (190, 10, 1) Y.shape (190,)\n"
     ]
    }
   ],
   "source": [
    "### build the dataset\n",
    "# let's see if we can use T past values to predict the next value\n",
    "T = 10\n",
    "D = 1\n",
    "X = []\n",
    "Y = []\n",
    "for t in range(len(series) - T):\n",
    "  x = series[t:t+T]\n",
    "  X.append(x)\n",
    "  y = series[t+T]\n",
    "  Y.append(y)\n",
    "\n",
    "X = np.array(X).reshape(-1, T, 1) # Now the data should be N x T x D\n",
    "Y = np.array(Y)\n",
    "N = len(X)\n",
    "print(\"X.shape\", X.shape, \"Y.shape\", Y.shape)"
   ]
  },
  {
   "cell_type": "code",
   "execution_count": 6,
   "metadata": {},
   "outputs": [
    {
     "name": "stdout",
     "output_type": "stream",
     "text": [
      "Train on 95 samples, validate on 95 samples\n",
      "Epoch 1/80\n",
      "95/95 [==============================] - 1s 15ms/sample - loss: 0.4989 - val_loss: 0.1374\n",
      "Epoch 2/80\n",
      "95/95 [==============================] - 0s 356us/sample - loss: 0.1823 - val_loss: 0.0919\n",
      "Epoch 3/80\n",
      "95/95 [==============================] - 0s 365us/sample - loss: 0.1293 - val_loss: 0.0879\n",
      "Epoch 4/80\n",
      "95/95 [==============================] - 0s 371us/sample - loss: 0.0881 - val_loss: 0.0514\n",
      "Epoch 5/80\n",
      "95/95 [==============================] - 0s 353us/sample - loss: 0.0687 - val_loss: 0.0403\n",
      "Epoch 6/80\n",
      "95/95 [==============================] - 0s 353us/sample - loss: 0.0405 - val_loss: 0.0228\n",
      "Epoch 7/80\n",
      "95/95 [==============================] - 0s 334us/sample - loss: 0.0344 - val_loss: 0.0302\n",
      "Epoch 8/80\n",
      "95/95 [==============================] - 0s 389us/sample - loss: 0.0370 - val_loss: 0.0358\n",
      "Epoch 9/80\n",
      "95/95 [==============================] - 0s 345us/sample - loss: 0.0388 - val_loss: 0.0311\n",
      "Epoch 10/80\n",
      "95/95 [==============================] - 0s 383us/sample - loss: 0.0262 - val_loss: 0.0298\n",
      "Epoch 11/80\n",
      "95/95 [==============================] - 0s 363us/sample - loss: 0.0272 - val_loss: 0.0222\n",
      "Epoch 12/80\n",
      "95/95 [==============================] - 0s 363us/sample - loss: 0.0267 - val_loss: 0.0241\n",
      "Epoch 13/80\n",
      "95/95 [==============================] - 0s 369us/sample - loss: 0.0257 - val_loss: 0.0183\n",
      "Epoch 14/80\n",
      "95/95 [==============================] - 0s 344us/sample - loss: 0.0241 - val_loss: 0.0218\n",
      "Epoch 15/80\n",
      "95/95 [==============================] - 0s 345us/sample - loss: 0.0217 - val_loss: 0.0244\n",
      "Epoch 16/80\n",
      "95/95 [==============================] - 0s 347us/sample - loss: 0.0220 - val_loss: 0.0182\n",
      "Epoch 17/80\n",
      "95/95 [==============================] - 0s 345us/sample - loss: 0.0213 - val_loss: 0.0168\n",
      "Epoch 18/80\n",
      "95/95 [==============================] - 0s 353us/sample - loss: 0.0207 - val_loss: 0.0213\n",
      "Epoch 19/80\n",
      "95/95 [==============================] - 0s 347us/sample - loss: 0.0214 - val_loss: 0.0179\n",
      "Epoch 20/80\n",
      "95/95 [==============================] - 0s 336us/sample - loss: 0.0208 - val_loss: 0.0183\n",
      "Epoch 21/80\n",
      "95/95 [==============================] - 0s 355us/sample - loss: 0.0205 - val_loss: 0.0205\n",
      "Epoch 22/80\n",
      "95/95 [==============================] - 0s 347us/sample - loss: 0.0211 - val_loss: 0.0169\n",
      "Epoch 23/80\n",
      "95/95 [==============================] - 0s 333us/sample - loss: 0.0205 - val_loss: 0.0191\n",
      "Epoch 24/80\n",
      "95/95 [==============================] - 0s 354us/sample - loss: 0.0211 - val_loss: 0.0174\n",
      "Epoch 25/80\n",
      "95/95 [==============================] - 0s 376us/sample - loss: 0.0206 - val_loss: 0.0192\n",
      "Epoch 26/80\n",
      "95/95 [==============================] - 0s 382us/sample - loss: 0.0202 - val_loss: 0.0174\n",
      "Epoch 27/80\n",
      "95/95 [==============================] - 0s 373us/sample - loss: 0.0206 - val_loss: 0.0186\n",
      "Epoch 28/80\n",
      "95/95 [==============================] - 0s 385us/sample - loss: 0.0202 - val_loss: 0.0179\n",
      "Epoch 29/80\n",
      "95/95 [==============================] - 0s 397us/sample - loss: 0.0210 - val_loss: 0.0170\n",
      "Epoch 30/80\n",
      "95/95 [==============================] - 0s 376us/sample - loss: 0.0221 - val_loss: 0.0174\n",
      "Epoch 31/80\n",
      "95/95 [==============================] - 0s 381us/sample - loss: 0.0202 - val_loss: 0.0170\n",
      "Epoch 32/80\n",
      "95/95 [==============================] - 0s 384us/sample - loss: 0.0198 - val_loss: 0.0203\n",
      "Epoch 33/80\n",
      "95/95 [==============================] - 0s 345us/sample - loss: 0.0210 - val_loss: 0.0163\n",
      "Epoch 34/80\n",
      "95/95 [==============================] - 0s 372us/sample - loss: 0.0197 - val_loss: 0.0213\n",
      "Epoch 35/80\n",
      "95/95 [==============================] - 0s 373us/sample - loss: 0.0204 - val_loss: 0.0175\n",
      "Epoch 36/80\n",
      "95/95 [==============================] - 0s 399us/sample - loss: 0.0229 - val_loss: 0.0219\n",
      "Epoch 37/80\n",
      "95/95 [==============================] - 0s 366us/sample - loss: 0.0219 - val_loss: 0.0168\n",
      "Epoch 38/80\n",
      "95/95 [==============================] - 0s 351us/sample - loss: 0.0219 - val_loss: 0.0168\n",
      "Epoch 39/80\n",
      "95/95 [==============================] - 0s 367us/sample - loss: 0.0214 - val_loss: 0.0177\n",
      "Epoch 40/80\n",
      "95/95 [==============================] - 0s 359us/sample - loss: 0.0194 - val_loss: 0.0170\n",
      "Epoch 41/80\n",
      "95/95 [==============================] - 0s 332us/sample - loss: 0.0201 - val_loss: 0.0192\n",
      "Epoch 42/80\n",
      "95/95 [==============================] - 0s 369us/sample - loss: 0.0193 - val_loss: 0.0159\n",
      "Epoch 43/80\n",
      "95/95 [==============================] - 0s 361us/sample - loss: 0.0206 - val_loss: 0.0242\n",
      "Epoch 44/80\n",
      "95/95 [==============================] - 0s 345us/sample - loss: 0.0213 - val_loss: 0.0168\n",
      "Epoch 45/80\n",
      "95/95 [==============================] - 0s 347us/sample - loss: 0.0213 - val_loss: 0.0173\n",
      "Epoch 46/80\n",
      "95/95 [==============================] - 0s 381us/sample - loss: 0.0187 - val_loss: 0.0158\n",
      "Epoch 47/80\n",
      "95/95 [==============================] - 0s 423us/sample - loss: 0.0194 - val_loss: 0.0251\n",
      "Epoch 48/80\n",
      "95/95 [==============================] - 0s 394us/sample - loss: 0.0213 - val_loss: 0.0160\n",
      "Epoch 49/80\n",
      "95/95 [==============================] - 0s 378us/sample - loss: 0.0193 - val_loss: 0.0213\n",
      "Epoch 50/80\n",
      "95/95 [==============================] - 0s 369us/sample - loss: 0.0218 - val_loss: 0.0163\n",
      "Epoch 51/80\n",
      "95/95 [==============================] - 0s 402us/sample - loss: 0.0208 - val_loss: 0.0157\n",
      "Epoch 52/80\n",
      "95/95 [==============================] - 0s 376us/sample - loss: 0.0201 - val_loss: 0.0206\n",
      "Epoch 53/80\n",
      "95/95 [==============================] - 0s 370us/sample - loss: 0.0197 - val_loss: 0.0204\n",
      "Epoch 54/80\n",
      "95/95 [==============================] - 0s 373us/sample - loss: 0.0234 - val_loss: 0.0180\n",
      "Epoch 55/80\n",
      "95/95 [==============================] - 0s 360us/sample - loss: 0.0190 - val_loss: 0.0159\n",
      "Epoch 56/80\n",
      "95/95 [==============================] - 0s 348us/sample - loss: 0.0192 - val_loss: 0.0186\n",
      "Epoch 57/80\n",
      "95/95 [==============================] - 0s 345us/sample - loss: 0.0185 - val_loss: 0.0155\n",
      "Epoch 58/80\n",
      "95/95 [==============================] - 0s 332us/sample - loss: 0.0171 - val_loss: 0.0248\n",
      "Epoch 59/80\n",
      "95/95 [==============================] - 0s 331us/sample - loss: 0.0209 - val_loss: 0.0144\n",
      "Epoch 60/80\n",
      "95/95 [==============================] - 0s 350us/sample - loss: 0.0219 - val_loss: 0.0173\n",
      "Epoch 61/80\n",
      "95/95 [==============================] - 0s 344us/sample - loss: 0.0201 - val_loss: 0.0149\n",
      "Epoch 62/80\n",
      "95/95 [==============================] - 0s 325us/sample - loss: 0.0179 - val_loss: 0.0152\n",
      "Epoch 63/80\n",
      "95/95 [==============================] - 0s 314us/sample - loss: 0.0184 - val_loss: 0.0314\n",
      "Epoch 64/80\n",
      "95/95 [==============================] - 0s 334us/sample - loss: 0.0252 - val_loss: 0.0166\n",
      "Epoch 65/80\n",
      "95/95 [==============================] - 0s 336us/sample - loss: 0.0175 - val_loss: 0.0133\n",
      "Epoch 66/80\n",
      "95/95 [==============================] - 0s 331us/sample - loss: 0.0179 - val_loss: 0.0132\n",
      "Epoch 67/80\n",
      "95/95 [==============================] - 0s 347us/sample - loss: 0.0155 - val_loss: 0.0146\n",
      "Epoch 68/80\n",
      "95/95 [==============================] - 0s 331us/sample - loss: 0.0178 - val_loss: 0.0276\n",
      "Epoch 69/80\n",
      "95/95 [==============================] - 0s 335us/sample - loss: 0.0209 - val_loss: 0.0117\n",
      "Epoch 70/80\n",
      "95/95 [==============================] - 0s 334us/sample - loss: 0.0141 - val_loss: 0.0134\n",
      "Epoch 71/80\n",
      "95/95 [==============================] - 0s 332us/sample - loss: 0.0141 - val_loss: 0.0145\n",
      "Epoch 72/80\n",
      "95/95 [==============================] - 0s 347us/sample - loss: 0.0157 - val_loss: 0.0121\n",
      "Epoch 73/80\n",
      "95/95 [==============================] - 0s 332us/sample - loss: 0.0149 - val_loss: 0.0127\n",
      "Epoch 74/80\n",
      "95/95 [==============================] - 0s 365us/sample - loss: 0.0143 - val_loss: 0.0116\n",
      "Epoch 75/80\n",
      "95/95 [==============================] - 0s 369us/sample - loss: 0.0147 - val_loss: 0.0142\n",
      "Epoch 76/80\n",
      "95/95 [==============================] - 0s 369us/sample - loss: 0.0157 - val_loss: 0.0168\n",
      "Epoch 77/80\n",
      "95/95 [==============================] - 0s 355us/sample - loss: 0.0147 - val_loss: 0.0116\n",
      "Epoch 78/80\n",
      "95/95 [==============================] - 0s 340us/sample - loss: 0.0182 - val_loss: 0.0145\n",
      "Epoch 79/80\n",
      "95/95 [==============================] - 0s 324us/sample - loss: 0.0154 - val_loss: 0.0223\n",
      "Epoch 80/80\n"
     ]
    },
    {
     "name": "stdout",
     "output_type": "stream",
     "text": [
      "32/95 [=========>....................] - ETA: 0s - loss: 0.0177\b\b\b\b\b\b\b\b\b\b\b\b\b\b\b\b\b\b\b\b\b\b\b\b\b\b\b\b\b\b\b\b\b\b\b\b\b\b\b\b\b\b\b\b\b\b\b\b\b\b\b\b\b\b\b\b\b\b\b\b\b\b\b\r",
      "95/95 [==============================] - 0s 330us/sample - loss: 0.0160 - val_loss: 0.0151\n"
     ]
    }
   ],
   "source": [
    "### try autoregressive RNN model\n",
    "i = Input(shape=(T, 1))\n",
    "x = SimpleRNN(5, activation='relu')(i)\n",
    "x = Dense(1)(x)\n",
    "model = Model(i, x)\n",
    "model.compile(\n",
    "  loss='mse',\n",
    "  optimizer=Adam(lr=0.1),\n",
    ")\n",
    "\n",
    "# train the RNN\n",
    "r = model.fit(\n",
    "  X[:-N//2], Y[:-N//2],\n",
    "  epochs=80,\n",
    "  validation_data=(X[-N//2:], Y[-N//2:]),\n",
    ")"
   ]
  },
  {
   "cell_type": "code",
   "execution_count": 7,
   "metadata": {},
   "outputs": [
    {
     "data": {
      "text/plain": [
       "<matplotlib.legend.Legend at 0x62f452810>"
      ]
     },
     "execution_count": 7,
     "metadata": {},
     "output_type": "execute_result"
    },
    {
     "data": {
      "image/png": "[encoded data removed]",
      "text/plain": [
       "<Figure size 432x288 with 1 Axes>"
      ]
     },
     "metadata": {
      "needs_background": "light"
     },
     "output_type": "display_data"
    }
   ],
   "source": [
    "# Plot loss per iteration\n",
    "import matplotlib.pyplot as plt\n",
    "plt.plot(r.history['loss'], label='loss')\n",
    "plt.plot(r.history['val_loss'], label='val_loss')\n",
    "plt.legend()"
   ]
  },
  {
   "cell_type": "code",
   "execution_count": 8,
   "metadata": {},
   "outputs": [],
   "source": [
    "# \"Wrong\" forecast using true targets\n",
    "\n",
    "validation_target = Y[-N//2:]\n",
    "validation_predictions = []\n",
    "\n",
    "# index of first validation input\n",
    "i = -N//2\n",
    "\n",
    "while len(validation_predictions) < len(validation_target):\n",
    "  p = model.predict(X[i].reshape(1, -1, 1))[0,0] # 1x1 array -> scalar\n",
    "  i += 1\n",
    "  \n",
    "  # update the predictions list\n",
    "  validation_predictions.append(p)"
   ]
  },
  {
   "cell_type": "code",
   "execution_count": 9,
   "metadata": {},
   "outputs": [
    {
     "data": {
      "text/plain": [
       "<matplotlib.legend.Legend at 0x6314b1bd0>"
      ]
     },
     "execution_count": 9,
     "metadata": {},
     "output_type": "execute_result"
    },
    {
     "data": {
      "image/png": "[encoded data removed]",
      "text/plain": [
       "<Figure size 432x288 with 1 Axes>"
      ]
     },
     "metadata": {
      "needs_background": "light"
     },
     "output_type": "display_data"
    }
   ],
   "source": [
    "plt.plot(validation_target, label='forecast target')\n",
    "plt.plot(validation_predictions, label='forecast prediction')\n",
    "plt.legend()"
   ]
  },
  {
   "cell_type": "code",
   "execution_count": null,
   "metadata": {},
   "outputs": [],
   "source": []
  }
 ],
 "metadata": {
  "kernelspec": {
   "display_name": "Python 3",
   "language": "python",
   "name": "python3"
  },
  "language_info": {
   "codemirror_mode": {
    "name": "ipython",
    "version": 3
   },
   "file_extension": ".py",
   "mimetype": "text/x-python",
   "name": "python",
   "nbconvert_exporter": "python",
   "pygments_lexer": "ipython3",
   "version": "3.7.4"
  }
 },
 "nbformat": 4,
 "nbformat_minor": 2
}
